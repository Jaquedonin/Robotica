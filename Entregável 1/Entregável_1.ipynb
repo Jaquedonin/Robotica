{
 "cells": [
  {
   "cell_type": "markdown",
   "metadata": {},
   "source": [
    "# Robótica - Entregável 1\n",
    "\n",
    "### Professor: Tiago Pereira do Nascimento\n",
    "\n",
    "### Grupo: Aléxandros Augustus (11501517) e Jaqueline Donin (20160144455)\n",
    "\n",
    "##### Algoritmo: A*"
   ]
  },
  {
   "cell_type": "code",
   "execution_count": 1,
   "metadata": {},
   "outputs": [],
   "source": [
    "# Credit for this: Nicholas Swift\n",
    "# as found at https://medium.com/@nicholas.w.swift/easy-a-star-pathfinding-7e6689c7f7b2\n",
    "# edit by Ryan Colling Wood at https://gist.github.com/ryancollingwood/32446307e976a11a1185a5394d6657bc\n",
    "from warnings import warn\n",
    "import heapq\n",
    "\n",
    "class Node:\n",
    "    \"\"\"\n",
    "    A node class for A* Pathfinding\n",
    "    \"\"\"\n",
    "\n",
    "    def __init__(self, parent=None, position=None):\n",
    "        self.parent = parent\n",
    "        self.position = position\n",
    "\n",
    "        self.g = 0\n",
    "        self.h = 0\n",
    "        self.f = 0\n",
    "\n",
    "    def __eq__(self, other):\n",
    "        return self.position == other.position\n",
    "    \n",
    "    def __repr__(self):\n",
    "      return f\"{self.position} - g: {self.g} h: {self.h} f: {self.f}\"\n",
    "\n",
    "    # defining less than for purposes of heap queue\n",
    "    def __lt__(self, other):\n",
    "      return self.f < other.f\n",
    "    \n",
    "    # defining greater than for purposes of heap queue\n",
    "    def __gt__(self, other):\n",
    "      return self.f > other.f\n",
    "\n",
    "def return_path(current_node):\n",
    "    path = []\n",
    "    current = current_node\n",
    "    while current is not None:\n",
    "        path.append(current.position)\n",
    "        current = current.parent\n",
    "    return path[::-1]  # Return reversed path\n",
    "\n",
    "\n",
    "def astar(maze, start, end):\n",
    "    \"\"\"\n",
    "    Returns a list of tuples as a path from the given start to the given end in the given maze\n",
    "    :param maze:\n",
    "    :param start:\n",
    "    :param end:\n",
    "    :return:\n",
    "    \"\"\"\n",
    "\n",
    "    # Create start and end node\n",
    "    start_node = Node(None, start)\n",
    "    start_node.g = start_node.h = start_node.f = 0\n",
    "    end_node = Node(None, end)\n",
    "    end_node.g = end_node.h = end_node.f = 0\n",
    "\n",
    "    # Initialize both open and closed list\n",
    "    open_list = []\n",
    "    closed_list = []\n",
    "\n",
    "    # Heapify the open_list and Add the start node\n",
    "    heapq.heapify(open_list) \n",
    "    heapq.heappush(open_list, start_node)\n",
    "\n",
    "    # Adding a stop condition\n",
    "    outer_iterations = 0\n",
    "    max_iterations = (len(maze[0]) * len(maze) // 2)\n",
    "\n",
    "    # what squares do we search\n",
    "    adjacent_squares = [(0, -1), (0, 1), (-1, 0), (1, 0), (-1, -1), (-1, 1), (1, -1), (1, 1)]\n",
    "\n",
    "    # Loop until you find the end\n",
    "    while len(open_list) > 0:\n",
    "        outer_iterations += 1\n",
    "\n",
    "        if outer_iterations > max_iterations:\n",
    "          # if we hit this point return the path such as it is\n",
    "          # it will not contain the destination\n",
    "          warn(\"giving up on pathfinding too many iterations\")\n",
    "          return return_path(current_node)       \n",
    "        \n",
    "        # Get the current node\n",
    "        current_node = heapq.heappop(open_list)\n",
    "        closed_list.append(current_node)\n",
    "\n",
    "        # Found the goal\n",
    "        if current_node == end_node:\n",
    "            return return_path(current_node)\n",
    "\n",
    "        # Generate children\n",
    "        children = []\n",
    "        \n",
    "        for new_position in adjacent_squares: # Adjacent squares\n",
    "\n",
    "            # Get node position\n",
    "            node_position = (current_node.position[0] + new_position[0], current_node.position[1] + new_position[1])\n",
    "\n",
    "            # Make sure within range\n",
    "            if node_position[0] > (len(maze) - 1) or node_position[0] < 0 or node_position[1] > (len(maze[len(maze)-1]) -1) or node_position[1] < 0:\n",
    "                continue\n",
    "\n",
    "            # Make sure walkable terrain\n",
    "            if maze[node_position[0]][node_position[1]] != 0:\n",
    "                continue\n",
    "\n",
    "            # Create new node\n",
    "            new_node = Node(current_node, node_position)\n",
    "\n",
    "            # Append\n",
    "            children.append(new_node)\n",
    "\n",
    "        # Loop through children\n",
    "        for child in children:\n",
    "            # Child is on the closed list\n",
    "            if len([closed_child for closed_child in closed_list if closed_child == child]) > 0:\n",
    "                continue\n",
    "\n",
    "            # Create the f, g, and h values\n",
    "            child.g = current_node.g + 1\n",
    "            child.h = ((child.position[0] - end_node.position[0]) ** 2) + ((child.position[1] - end_node.position[1]) ** 2)\n",
    "            child.f = child.g + child.h\n",
    "\n",
    "            # Child is already in the open list\n",
    "            if len([open_node for open_node in open_list if child.position == open_node.position and child.g > open_node.g]) > 0:\n",
    "                continue\n",
    "\n",
    "            # Add the child to the open list\n",
    "            heapq.heappush(open_list, child)\n",
    "\n",
    "    warn(\"Couldn't get a path to destination\")\n",
    "    return None"
   ]
  },
  {
   "cell_type": "code",
   "execution_count": 2,
   "metadata": {},
   "outputs": [],
   "source": [
    "## BIBLIOTECAS\n",
    "from PIL import Image #ler mapa\n",
    "import numpy as np #ajusta mapa para array\n",
    "import matplotlib.pyplot as plt #plota imagens\n",
    "import copy #copia o labrinto para pintar o trajeto encontrado pelo algoritmo"
   ]
  },
  {
   "cell_type": "code",
   "execution_count": 3,
   "metadata": {},
   "outputs": [],
   "source": [
    "## LENDO IMAGEM DO MAPA\n",
    "img = Image.open(\"mapinha_inflado.bmp\")\n",
    "## TRANSFORMANDO EM UMA LISTA\n",
    "maze = (np.logical_not((np.array(img)[:,:,0])/255).astype(int)).tolist()"
   ]
  },
  {
   "cell_type": "code",
   "execution_count": 4,
   "metadata": {
    "scrolled": true
   },
   "outputs": [
    {
     "data": {
      "image/png": "[encoded data removed]",
      "text/plain": [
       "<Figure size 432x288 with 1 Axes>"
      ]
     },
     "metadata": {
      "needs_background": "light"
     },
     "output_type": "display_data"
    }
   ],
   "source": [
    "plt.imshow(maze,cmap='gnuplot2_r');"
   ]
  },
  {
   "cell_type": "code",
   "execution_count": 5,
   "metadata": {},
   "outputs": [
    {
     "name": "stdout",
     "output_type": "stream",
     "text": [
      "0\n",
      "0\n"
     ]
    }
   ],
   "source": [
    "## COORDENADAS\n",
    "start = (50,250)\n",
    "## O COMANDO ABAIXO MOSTRA SE OS PONTOs SÃO VÁLIDOS, ISTO É \n",
    "## SE ELES NÃO ESTÃO SOBRE UM OBSTÁCULO OU PAREDE, PONTOS VÁLIDOS SÃO 0 E INVÁLIDOS 1\n",
    "print(maze[50][250])\n",
    "end = (400,280)\n",
    "print(maze[400][280])"
   ]
  },
  {
   "cell_type": "code",
   "execution_count": 6,
   "metadata": {},
   "outputs": [],
   "source": [
    "path = astar(maze, start, end)\n"
   ]
  },
  {
   "cell_type": "code",
   "execution_count": 7,
   "metadata": {},
   "outputs": [
    {
     "name": "stdout",
     "output_type": "stream",
     "text": [
      "[(50, 250), (51, 251), (52, 252), (53, 253), (54, 254), (55, 255), (56, 256), (57, 257), (58, 258), (59, 259), (60, 260), (61, 261), (62, 262), (63, 263), (64, 264), (65, 265), (66, 266), (67, 267), (68, 268), (69, 269), (70, 270), (71, 271), (72, 272), (73, 273), (74, 274), (75, 275), (76, 276), (77, 277), (78, 278), (79, 279), (80, 280), (81, 280), (82, 280), (83, 280), (84, 280), (85, 280), (86, 280), (87, 280), (88, 280), (89, 280), (90, 280), (91, 280), (92, 280), (93, 280), (94, 280), (95, 280), (96, 280), (97, 280), (98, 280), (99, 280), (100, 280), (101, 280), (102, 280), (103, 280), (104, 280), (105, 280), (106, 280), (107, 280), (108, 280), (109, 280), (110, 280), (111, 280), (112, 280), (113, 280), (114, 280), (115, 280), (116, 280), (117, 280), (118, 280), (119, 280), (120, 280), (121, 280), (122, 280), (123, 280), (124, 280), (125, 280), (126, 280), (127, 280), (128, 280), (129, 280), (130, 280), (131, 280), (132, 280), (133, 280), (134, 280), (135, 280), (136, 280), (137, 280), (138, 280), (139, 280), (140, 280), (141, 280), (142, 280), (143, 280), (144, 280), (145, 280), (146, 280), (147, 280), (148, 280), (149, 280), (150, 280), (151, 280), (152, 280), (153, 280), (154, 280), (155, 280), (156, 280), (157, 280), (158, 280), (159, 280), (160, 280), (161, 280), (162, 280), (163, 280), (164, 280), (165, 280), (166, 280), (167, 280), (168, 280), (169, 280), (170, 280), (171, 280), (172, 280), (173, 280), (174, 280), (175, 280), (176, 280), (177, 280), (178, 280), (179, 280), (180, 280), (181, 280), (182, 279), (182, 278), (182, 277), (182, 276), (182, 275), (182, 274), (182, 273), (182, 272), (183, 271), (184, 270), (185, 269), (185, 268), (186, 267), (187, 266), (188, 266), (189, 265), (190, 264), (191, 264), (192, 264), (193, 264), (194, 264), (195, 264), (196, 264), (197, 264), (198, 264), (199, 264), (200, 264), (201, 264), (202, 264), (203, 264), (204, 264), (205, 264), (206, 264), (207, 264), (208, 264), (209, 264), (210, 264), (211, 264), (212, 264), (213, 264), (214, 264), (215, 264), (216, 265), (217, 266), (218, 267), (219, 268), (220, 269), (221, 270), (222, 271), (223, 272), (224, 273), (225, 274), (226, 275), (227, 276), (228, 277), (229, 278), (230, 279), (231, 280), (232, 280), (233, 280), (234, 280), (235, 280), (236, 280), (237, 280), (238, 280), (239, 280), (240, 280), (241, 280), (242, 280), (243, 280), (244, 280), (245, 280), (246, 280), (247, 280), (248, 280), (249, 280), (250, 280), (251, 280), (252, 280), (253, 280), (254, 280), (255, 280), (256, 280), (257, 280), (258, 280), (259, 280), (260, 280), (261, 280), (262, 280), (263, 280), (264, 280), (265, 280), (266, 280), (267, 280), (268, 280), (269, 280), (270, 280), (271, 280), (272, 280), (273, 280), (274, 280), (275, 280), (276, 280), (277, 280), (278, 280), (279, 280), (280, 280), (281, 280), (282, 280), (283, 280), (284, 280), (285, 280), (286, 280), (287, 280), (288, 280), (289, 280), (290, 280), (291, 280), (292, 280), (293, 280), (294, 280), (295, 280), (296, 280), (297, 280), (298, 280), (299, 280), (300, 280), (301, 280), (302, 280), (303, 280), (304, 280), (305, 280), (306, 280), (307, 280), (308, 280), (309, 280), (310, 280), (311, 280), (312, 280), (313, 280), (314, 280), (315, 280), (316, 280), (317, 280), (318, 280), (319, 280), (320, 280), (321, 280), (322, 280), (323, 280), (324, 280), (325, 280), (326, 280), (327, 280), (328, 280), (329, 280), (330, 280), (331, 280), (332, 280), (333, 280), (334, 280), (335, 280), (336, 280), (337, 280), (338, 280), (339, 280), (340, 280), (341, 280), (342, 280), (343, 280), (344, 280), (345, 280), (346, 280), (347, 280), (348, 280), (349, 280), (350, 280), (351, 280), (352, 280), (353, 280), (354, 280), (355, 280), (356, 280), (357, 280), (358, 280), (359, 280), (360, 280), (361, 280), (362, 280), (363, 280), (364, 280), (365, 280), (366, 280), (367, 280), (368, 280), (369, 280), (370, 280), (371, 280), (372, 280), (373, 280), (374, 280), (375, 280), (376, 280), (377, 280), (378, 280), (379, 280), (380, 280), (381, 280), (382, 280), (383, 280), (384, 280), (385, 280), (386, 280), (387, 280), (388, 280), (389, 280), (390, 280), (391, 280), (392, 280), (393, 280), (394, 280), (395, 280), (396, 280), (397, 280), (398, 280), (399, 280), (400, 280)]\n"
     ]
    }
   ],
   "source": [
    "## CAMINHO PERCORRIDO\n",
    "print(path)"
   ]
  },
  {
   "cell_type": "code",
   "execution_count": 8,
   "metadata": {},
   "outputs": [],
   "source": [
    "solution = copy.deepcopy(maze)\n",
    "\n",
    "for x in path:\n",
    "    solution[x[0]][x[1]] = .5"
   ]
  },
  {
   "cell_type": "code",
   "execution_count": 9,
   "metadata": {},
   "outputs": [
    {
     "data": {
      "image/png": "[encoded data removed]",
      "text/plain": [
       "<Figure size 432x288 with 1 Axes>"
      ]
     },
     "metadata": {
      "needs_background": "light"
     },
     "output_type": "display_data"
    }
   ],
   "source": [
    "plt.imshow(solution,cmap='gnuplot2_r');"
   ]
  },
  {
   "cell_type": "code",
   "execution_count": 10,
   "metadata": {},
   "outputs": [
    {
     "data": {
      "image/png": "[encoded data removed]",
      "text/plain": [
       "<Figure size 1800x1200 with 1 Axes>"
      ]
     },
     "metadata": {
      "needs_background": "light"
     },
     "output_type": "display_data"
    }
   ],
   "source": [
    "from matplotlib.pyplot import figure\n",
    "## COMO O CAMINHO FICA QUASE INVISÍVEL NÓS AUMENTAMOS A RESOLUÇÃO\n",
    "figure(dpi=300)\n",
    "plt.imshow(solution,cmap='gnuplot2_r');"
   ]
  },
  {
   "cell_type": "code",
   "execution_count": 11,
   "metadata": {},
   "outputs": [],
   "source": [
    "## AGORA VAMOS COLOCAR EM UM PONTO DIFERENTE E VER COMO ELE SE COMPORTA\n",
    "## ISSO É TUDO, OBRIGADA PELA ATENÇÃO!"
   ]
  },
  {
   "cell_type": "code",
   "execution_count": null,
   "metadata": {},
   "outputs": [],
   "source": []
  }
 ],
 "metadata": {
  "kernelspec": {
   "display_name": "Python 3",
   "language": "python",
   "name": "python3"
  },
  "language_info": {
   "codemirror_mode": {
    "name": "ipython",
    "version": 3
   },
   "file_extension": ".py",
   "mimetype": "text/x-python",
   "name": "python",
   "nbconvert_exporter": "python",
   "pygments_lexer": "ipython3",
   "version": "3.7.3"
  }
 },
 "nbformat": 4,
 "nbformat_minor": 2
}
